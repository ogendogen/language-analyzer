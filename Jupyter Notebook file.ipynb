{
 "cells": [
  {
   "cell_type": "code",
   "execution_count": 1,
   "metadata": {},
   "outputs": [
    {
     "name": "stdout",
     "output_type": "stream",
     "text": [
      "Finished succesfully!\n"
     ]
    }
   ],
   "source": [
    "import time\n",
    "import datetime\n",
    "import os\n",
    "import json\n",
    "\n",
    "# custom modules\n",
    "import utils\n",
    "import analyzer\n",
    "\n",
    "try:\n",
    "    # parsing files\n",
    "    filesList = os.listdir(\"text samples\")\n",
    "    for fileName in filesList:\n",
    "        # reading files and clearing data\n",
    "        fileContent = utils.readAllText(\"text samples/\" + fileName)\n",
    "        clearedData = analyzer.clearData(fileContent)\n",
    "        utils.writeAllText(\"cleared data/\" + fileName, clearedData)\n",
    "\n",
    "        # counting frequency\n",
    "        lettersDict = utils.listToDict(analyzer.countLettersFreq(clearedData))\n",
    "        utils.writeAllText(\"letter frequency/\" + fileName, json.dumps(lettersDict))\n",
    "\n",
    "        bigramsDict = utils.listToDict(analyzer.countBigramsFreq(clearedData))\n",
    "        utils.writeAllText(\"bigrams/\" + fileName, json.dumps(bigramsDict))\n",
    "        \n",
    "        trigramsDict = utils.listToDict(analyzer.countTrigramsFreq(clearedData))\n",
    "        utils.writeAllText(\"trigrams/\" + fileName, json.dumps(trigramsDict))\n",
    "\n",
    "        # converting number of occurences to percentages\n",
    "        lettersDictFinal = analyzer.sumPercentageToDict(lettersDict)\n",
    "        bigramsDictFinal = analyzer.sumPercentageToDict(bigramsDict)\n",
    "        trigramsDictFinal = analyzer.sumPercentageToDict(trigramsDict)\n",
    "\n",
    "        lettersJsonFinal = json.dumps(lettersDictFinal, ensure_ascii = False)\n",
    "        bigramsJsonFinal = json.dumps(bigramsDictFinal, ensure_ascii = False)\n",
    "        trigramsJsonFinal = json.dumps(trigramsDictFinal, ensure_ascii = False)\n",
    "\n",
    "        # printing csv files for charts\n",
    "        utils.writeAllText(\"csv outputs/\" + fileName.replace(\".txt\", \"\") + \"-letters.txt\", utils.dictToCsvString(lettersDictFinal, \"|\"))\n",
    "        utils.writeAllText(\"csv outputs/\" + fileName.replace(\".txt\", \"\") + \"-bigrams.txt\", utils.dictToCsvString(bigramsDictFinal, \"|\"))\n",
    "        utils.writeAllText(\"csv outputs/\" + fileName.replace(\".txt\", \"\") + \"-trigrams.txt\", utils.dictToCsvString(trigramsDictFinal, \"|\"))\n",
    "\n",
    "        # printing final json document\n",
    "        finalJson = { \"letters\": lettersJsonFinal, \"bigrams\": bigramsJsonFinal, \"trigrams\": trigramsJsonFinal}\n",
    "        utils.writeAllText(fileName.replace(\".txt\", \".json\"), json.dumps(finalJson, ensure_ascii=False))\n",
    "\n",
    "    print(\"Finished succesfully!\")\n",
    "\n",
    "except Exception as ex:\n",
    "    timestamp = datetime.datetime.fromtimestamp(time.time()).strftime('%Y%m%d%H%M%S')\n",
    "    utils.writeAllText(\"error logs/errorlog\" + timestamp + \".log\", str(ex))\n",
    "    print(\"Error: \" + str(ex))"
   ]
  },
  {
   "cell_type": "code",
   "execution_count": null,
   "metadata": {},
   "outputs": [],
   "source": []
  }
 ],
 "metadata": {
  "kernelspec": {
   "display_name": "Python 3",
   "language": "python",
   "name": "python3"
  },
  "language_info": {
   "codemirror_mode": {
    "name": "ipython",
    "version": 3
   },
   "file_extension": ".py",
   "mimetype": "text/x-python",
   "name": "python",
   "nbconvert_exporter": "python",
   "pygments_lexer": "ipython3",
   "version": "3.7.3"
  }
 },
 "nbformat": 4,
 "nbformat_minor": 2
}
