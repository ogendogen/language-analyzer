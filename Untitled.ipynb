{
 "cells": [
  {
   "cell_type": "code",
   "execution_count": 3,
   "metadata": {},
   "outputs": [
    {
     "name": "stdout",
     "output_type": "stream",
     "text": [
      "['e', 9666, 't', 7726, 'a', 6602, 'o', 5825, 'i', 5504, 'h', 5406, 'n', 5329, 's', 4594, 'r', 4360, 'd', 4044, 'l', 3457, 'u', 2230, 'c', 2006, 'w', 1900, 'g', 1826, 'f', 1811, 'm', 1685, 'p', 1532, 'y', 1476, 'b', 1318, 'k', 940, 'v', 599, 'x', 137, 'j', 93, 'z', 77, 'q', 59]\n",
      "['e', 31458, 'n', 17376, 'r', 16933, 't', 13963, 's', 11792, 'i', 11567, 'a', 10361, 'd', 9386, 'l', 8964, 'g', 8180, 'o', 7899, 'k', 7838, 'm', 7193, 'v', 4885, 'h', 4492, 'u', 3527, 'å', 3358, 'b', 3169, 'f', 3065, 'p', 2819, 'j', 2269, 'ø', 2133, 'y', 1341, 'æ', 357, 'c', 53, 'w', 32, 'x', 30, 'é', 12, 'z', 2, 'ó', 1]\n",
      "['о', 19388, 'а', 15495, 'е', 14062, 'и', 12728, 'н', 10423, 'т', 9969, 'л', 9687, 'с', 9058, 'в', 8336, 'р', 8319, 'к', 6322, 'м', 6089, 'д', 5560, 'у', 5554, 'п', 4626, 'ы', 3566, 'я', 3489, 'г', 3390, 'ь', 3199, 'з', 3029, 'б', 3001, 'ч', 2471, 'ж', 2202, 'х', 2180, 'ш', 1956, 'й', 1909, 'ю', 946, 'ц', 805, 'щ', 515, 'э', 451, 'ф', 222, 'e', 136, 'ъ', 94, 'i', 82, 'a', 78, 's', 60, 'u', 54, 'l', 49, 'r', 48, 'o', 46, 'n', 40, 'c', 37, 'm', 34, 't', 34, 'v', 32, 'x', 30, 'd', 29, 'p', 21, 'h', 12, 'q', 8, 'g', 7, 'b', 5, 'f', 5, 'z', 4, 'j', 3, 'w', 3, 'y', 2]\n",
      "['e', 159549, 'a', 141370, 'o', 95508, 's', 87755, 'n', 77995, 'r', 76870, 'l', 63351, 'i', 58944, 'd', 53637, 'u', 51264, 't', 48566, 'c', 43770, 'm', 33458, 'p', 31618, 'b', 14457, 'q', 14116, 'h', 13571, 'v', 11347, 'g', 11251, 'y', 9907, 'f', 6395, 'á', 6237, 'j', 6231, 'í', 5017, 'z', 4438, 'ó', 3893, '¬', 3855, 'é', 3710, 'ñ', 2485, 'k', 1910, 'x', 1488, 'ú', 1481, 'w', 280, 'ü', 70, 'ö', 7, 'ä', 2]\n",
      "Finished succesfully!\n"
     ]
    }
   ],
   "source": [
    "import time\n",
    "import datetime\n",
    "import os\n",
    "from nltk import ngrams\n",
    "from collections import Counter\n",
    "from operator import itemgetter\n",
    "\n",
    "# clears data by removing interpunction, digits, line endings, redudant spaces and converting to lower case\n",
    "def clearData(data): # need to pass language name in parameter to check custom interpunction\n",
    "    standardInterpunction = [\"`\", \"~\", \"!\", \"@\", \"#\", \"$\", \"%\", \"^\", \"&\", \"*\", \"(\", \")\", \"-\", \"_\", \"=\", \"+\", \"[\", \"{\", \"]\", \"}\", \"\\\\\", \"|\", \";\", \":\", \"'\", \"\\\"\", \",\", \"<\", \".\", \">\", \"/\", \"?\", \"*\"]\n",
    "    digits = [\"1\", \"2\", \"3\", \"4\", \"5\", \"6\", \"7\", \"8\", \"9\", \"0\"]\n",
    "    customInterpunction = list([\"‘\",\"–\",\"—\",\"»\",\"«\",\"„\",\"“\",\"’\",\"”\",\"°\",\"¿\",\"¡\",\"…\",\"\\t\",\"\\n\",\"\\r\",\"\\r\\n\"])\n",
    "    outputData = \"\"\n",
    "    for literal in data:\n",
    "        if not isinstance(literal, str):\n",
    "            continue\n",
    "        if literal in standardInterpunction:\n",
    "            continue\n",
    "        if literal in customInterpunction:\n",
    "            continue\n",
    "        if literal in digits:\n",
    "            continue\n",
    "        if literal == \"\\n\" or literal == \"\\r\" or literal == \"\\r\\n\":\n",
    "            outputData = outputData + \" \"\n",
    "        \n",
    "        outputData = outputData + literal.lower()\n",
    "\n",
    "    return outputData\n",
    "\n",
    "def countLettersFreq(text):\n",
    "    litery = []\n",
    "    letter_dict = {}\n",
    "    for letter in text:\n",
    "        if letter != ' ':\n",
    "            try:\n",
    "                letter_dict[letter] += 1\n",
    "            except KeyError:\n",
    "                letter_dict[letter] = 1\n",
    "    for letter in sorted(letter_dict.items(), key=itemgetter(1), reverse=True):\n",
    "        litery += letter\n",
    "    return litery\n",
    "    \n",
    "\n",
    "\n",
    "try:\n",
    "    # loading up files and clearing data\n",
    "    filesList = os.listdir(\"text samples\")\n",
    "    for fileName in filesList:\n",
    "        f = open(\"text samples/\" + fileName, \"r\", encoding=\"utf8\")\n",
    "        fileContent = f.read()\n",
    "        f.close()\n",
    "        clearedData = clearData(fileContent)\n",
    "        # print(\"clear data\")\n",
    "        f = open(\"cleared data/\" + fileName, \"w\", encoding=\"utf8\")\n",
    "        f.write(clearedData)\n",
    "        f.close()\n",
    "        \n",
    "        f = open(\"letter frequency/\" + fileName, \"w\", encoding=\"utf8\")\n",
    "        ignore = {\" \"}     \n",
    "        lettersFreq = Counter(x for x in clearedData if x not in ignore) \n",
    "        f.write(str(lettersFreq))\n",
    "        #print(fileName,\" \",lettersFreq)\n",
    "        f.close()\n",
    "        print(countLettersFreq(clearedData))\n",
    "        \n",
    "    \n",
    "            \n",
    "    \n",
    "    \n",
    "    print(\"Finished succesfully!\")\n",
    "except Exception as ex:\n",
    "    time = time.time()\n",
    "    timestamp = datetime.datetime.fromtimestamp(time).strftime('%Y%m%d%H%M%S')\n",
    "    logFile = open(\"error logs/errorlog\" + timestamp + \".log\", \"w\")\n",
    "    logFile.write(str(ex))\n",
    "    logFile.close()\n",
    "    print(\"Error: \" + str(ex))"
   ]
  },
  {
   "cell_type": "code",
   "execution_count": null,
   "metadata": {},
   "outputs": [],
   "source": []
  }
 ],
 "metadata": {
  "kernelspec": {
   "display_name": "Python 3",
   "language": "python",
   "name": "python3"
  },
  "language_info": {
   "codemirror_mode": {
    "name": "ipython",
    "version": 3
   },
   "file_extension": ".py",
   "mimetype": "text/x-python",
   "name": "python",
   "nbconvert_exporter": "python",
   "pygments_lexer": "ipython3",
   "version": "3.7.0"
  }
 },
 "nbformat": 4,
 "nbformat_minor": 2
}
