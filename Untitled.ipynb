{
 "cells": [
  {
   "cell_type": "code",
   "execution_count": 1,
   "metadata": {},
   "outputs": [
    {
     "name": "stdout",
     "output_type": "stream",
     "text": [
      "Finished succesfully!\n"
     ]
    }
   ],
   "source": [
    "import time\n",
    "import datetime\n",
    "import os\n",
    "from collections import Counter\n",
    "\n",
    "# clears data by removing interpunction, digits, line endings, redudant spaces and converting to lower case\n",
    "def clearData(data): # need to pass language name in parameter to check custom interpunction\n",
    "    standardInterpunction = [\"`\", \"~\", \"!\", \"@\", \"#\", \"$\", \"%\", \"^\", \"&\", \"*\", \"(\", \")\", \"-\", \"_\", \"=\", \"+\", \"[\", \"{\", \"]\", \"}\", \"\\\\\", \"|\", \";\", \":\", \"'\", \"\\\"\", \",\", \"<\", \".\", \">\", \"/\", \"?\", \"*\"]\n",
    "    digits = [\"1\", \"2\", \"3\", \"4\", \"5\", \"6\", \"7\", \"8\", \"9\", \"0\"]\n",
    "    customInterpunction = list([\"‘\",\"–\",\"—\",\"»\",\"«\",\"„\",\"“\",\"’\",\"”\",\"°\",\"¿\",\"¡\",\"…\",\"\\t\",\"\\n\",\"\\r\",\"\\r\\n\"])\n",
    "    outputData = \"\"\n",
    "    for literal in data:\n",
    "        if not isinstance(literal, str):\n",
    "            continue\n",
    "        if literal in standardInterpunction:\n",
    "            continue\n",
    "        if literal in customInterpunction:\n",
    "            continue\n",
    "        if literal in digits:\n",
    "            continue\n",
    "        if literal == \"\\n\" or literal == \"\\r\" or literal == \"\\r\\n\":\n",
    "            outputData = outputData + \" \"\n",
    "        \n",
    "        outputData = outputData + literal.lower()\n",
    "\n",
    "    return outputData\n",
    "\n",
    "def generate_ngrams(s, n):\n",
    "    \n",
    "    # Break sentence in the token, remove empty tokens\n",
    "    tokens = [token for token in s.split(\" \") if token != \"\"]\n",
    "    \n",
    "    # Use the zip function to help us generate n-grams\n",
    "    # Concatentate the tokens into ngrams and return\n",
    "    ngrams = zip(*[token[i:] for i in range(n)])\n",
    "    return [\" \".join(ngram) for ngram in ngrams]\n",
    "\n",
    "try:\n",
    "    # loading up files and clearing data\n",
    "    filesList = os.listdir(\"text samples\")\n",
    "    for fileName in filesList:\n",
    "        f = open(\"text samples/\" + fileName, \"r\", encoding=\"utf8\")\n",
    "        fileContent = f.read()\n",
    "        f.close()\n",
    "        clearedData = clearData(fileContent)\n",
    "        # print(\"clear data\")\n",
    "        f = open(\"cleared data/\" + fileName, \"w\", encoding=\"utf8\")\n",
    "        f.write(clearedData)\n",
    "        f.close()\n",
    "        \n",
    "        f = open(\"letter frequency/\" + fileName, \"w\", encoding=\"utf8\")\n",
    "        ignore = {\" \"}     \n",
    "        lettersFreq = Counter(x for x in clearedData if x not in ignore) \n",
    "        f.write(str(lettersFreq))\n",
    "        #print(fileName,\" \",lettersFreq)\n",
    "        f.close()\n",
    "  \n",
    "    \n",
    "    \n",
    "    print(\"Finished succesfully!\")\n",
    "except Exception as ex:\n",
    "    time = time.time()\n",
    "    timestamp = datetime.datetime.fromtimestamp(time).strftime('%Y%m%d%H%M%S')\n",
    "    logFile = open(\"error logs/errorlog\" + timestamp + \".log\", \"w\")\n",
    "    logFile.write(str(ex))\n",
    "    logFile.close()\n",
    "    print(\"Error: \" + str(ex))"
   ]
  },
  {
   "cell_type": "code",
   "execution_count": null,
   "metadata": {},
   "outputs": [],
   "source": []
  }
 ],
 "metadata": {
  "kernelspec": {
   "display_name": "Python 3",
   "language": "python",
   "name": "python3"
  },
  "language_info": {
   "codemirror_mode": {
    "name": "ipython",
    "version": 3
   },
   "file_extension": ".py",
   "mimetype": "text/x-python",
   "name": "python",
   "nbconvert_exporter": "python",
   "pygments_lexer": "ipython3",
   "version": "3.7.0"
  }
 },
 "nbformat": 4,
 "nbformat_minor": 2
}
